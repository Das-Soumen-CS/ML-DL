{
 "cells": [
  {
   "cell_type": "code",
   "execution_count": 2,
   "id": "e9812f82-390c-4747-bfc6-a8f403f91c1c",
   "metadata": {},
   "outputs": [
    {
     "name": "stdout",
     "output_type": "stream",
     "text": [
      "Hello Class the Sum is := 30\n",
      "-8\n"
     ]
    }
   ],
   "source": [
    "import numpy as np\n",
    "import pandas as pd\n",
    "import matplotlib.pyplot as plt\n",
    "\n",
    "def BCSE_AI_ML_5B():\n",
    "    a=10\n",
    "    b=20\n",
    "    c=a+b\n",
    "    print(\"Hello Class the Sum is :=\",c)\n",
    "    pass\n",
    "    \n",
    "def Sub():\n",
    "    x=12\n",
    "    y=20\n",
    "    x=x-y\n",
    "    print(x)    \n",
    "    pass\n",
    "    \n",
    "    \n",
    "def main():\n",
    "    BCSE_AI_ML_5B()\n",
    "    Sub()\n",
    "    \n",
    "main()\n"
   ]
  },
  {
   "cell_type": "code",
   "execution_count": 3,
   "id": "a428151b-0700-46fd-8fad-92a274fa42e3",
   "metadata": {},
   "outputs": [
    {
     "name": "stdout",
     "output_type": "stream",
     "text": [
      "2nd element on 1st row:  18\n"
     ]
    }
   ],
   "source": [
    "import numpy as np\n",
    "\n",
    "BCSE_AI_ML_5B = np.array([[1,20,31,4,15], [16,72,18,9,10]])\n",
    "\n",
    "print('2nd element on 1st row: ', BCSE_AI_ML_5B[1, 2])"
   ]
  },
  {
   "cell_type": "code",
   "execution_count": 4,
   "id": "f6dec40b-540c-4306-a83b-106979f60c03",
   "metadata": {},
   "outputs": [
    {
     "name": "stdout",
     "output_type": "stream",
     "text": [
      "[ 1 20 31  4 15]\n",
      "\n",
      "\n",
      "Shape : (2, 5)\n",
      "Rows =  2\n",
      "Columns =  5\n",
      "[16 72 18  9 10]\n",
      "\n",
      "\n",
      "Shape : (2, 5)\n",
      "Rows =  2\n",
      "Columns =  5\n"
     ]
    }
   ],
   "source": [
    "for i in range(0,len(BCSE_AI_ML_5B)):\n",
    "    print(BCSE_AI_ML_5B[i])\n",
    "    print(\"\\n\")\n",
    "\n",
    "    print('Shape :',BCSE_AI_ML_5B.shape)\n",
    "    print('Rows = ',BCSE_AI_ML_5B.shape[0])\n",
    "    print('Columns = ',BCSE_AI_ML_5B.shape[1])"
   ]
  },
  {
   "cell_type": "code",
   "execution_count": 5,
   "id": "30a11534-57c2-4991-aacf-427589b2b48f",
   "metadata": {},
   "outputs": [
    {
     "data": {
      "text/plain": [
       "array([0., 0., 0.])"
      ]
     },
     "execution_count": 5,
     "metadata": {},
     "output_type": "execute_result"
    }
   ],
   "source": [
    "np.zeros(3)\n"
   ]
  },
  {
   "cell_type": "code",
   "execution_count": 6,
   "id": "54781c27-5cae-45fb-b840-0193c9dc9f05",
   "metadata": {},
   "outputs": [
    {
     "data": {
      "text/plain": [
       "array([[0., 0., 0.],\n",
       "       [0., 0., 0.]])"
      ]
     },
     "execution_count": 6,
     "metadata": {},
     "output_type": "execute_result"
    }
   ],
   "source": [
    "np.zeros((2,3))"
   ]
  },
  {
   "cell_type": "code",
   "execution_count": 7,
   "id": "b5d50465-1b87-45f3-8576-73e64a1e8f9c",
   "metadata": {},
   "outputs": [
    {
     "data": {
      "text/plain": [
       "array([1, 1, 1, 1, 1])"
      ]
     },
     "execution_count": 7,
     "metadata": {},
     "output_type": "execute_result"
    }
   ],
   "source": [
    "np.ones(5,dtype=np.int32)"
   ]
  },
  {
   "cell_type": "code",
   "execution_count": 8,
   "id": "a55208a9-eb2f-4ff1-be0d-d94025bab66e",
   "metadata": {},
   "outputs": [
    {
     "data": {
      "text/plain": [
       "array([[0.13944508, 0.67920168, 0.72277744],\n",
       "       [0.41969641, 0.24826178, 0.9472425 ]])"
      ]
     },
     "execution_count": 8,
     "metadata": {},
     "output_type": "execute_result"
    }
   ],
   "source": [
    "np.random.rand(2,3)"
   ]
  },
  {
   "cell_type": "code",
   "execution_count": 9,
   "id": "c5fb4891-a064-4cbd-babb-c6c61ba6aa1b",
   "metadata": {},
   "outputs": [
    {
     "data": {
      "text/plain": [
       "array([[4, 4, 4],\n",
       "       [4, 4, 4]])"
      ]
     },
     "execution_count": 9,
     "metadata": {},
     "output_type": "execute_result"
    }
   ],
   "source": [
    "np.full((2,3),4)"
   ]
  },
  {
   "cell_type": "code",
   "execution_count": 10,
   "id": "d4b00b77-9490-4219-a706-6adf897a71e8",
   "metadata": {},
   "outputs": [
    {
     "data": {
      "text/plain": [
       "array([[1., 0., 0.],\n",
       "       [0., 1., 0.],\n",
       "       [0., 0., 1.]])"
      ]
     },
     "execution_count": 10,
     "metadata": {},
     "output_type": "execute_result"
    }
   ],
   "source": [
    "np.eye(3,3)"
   ]
  },
  {
   "cell_type": "code",
   "execution_count": 11,
   "id": "4569e40e-be91-4cce-8a49-b42ac27597a7",
   "metadata": {},
   "outputs": [
    {
     "data": {
      "text/plain": [
       "array([[ 3,  6],\n",
       "       [ 9, 12],\n",
       "       [ 2,  2]])"
      ]
     },
     "execution_count": 11,
     "metadata": {},
     "output_type": "execute_result"
    }
   ],
   "source": [
    "#reshape\n",
    "BCSE_AI_ML_5B = np.array([3,6,9,12,2,2])\n",
    "np.reshape(BCSE_AI_ML_5B,(3,2))"
   ]
  },
  {
   "cell_type": "code",
   "execution_count": 12,
   "id": "6562c219-75e3-4e7a-92f1-765cb32e533f",
   "metadata": {},
   "outputs": [
    {
     "name": "stdout",
     "output_type": "stream",
     "text": [
      "Three rows : \n",
      " [[ 32  16   9]\n",
      " [ 12 118  24]\n",
      " [ 21   0   0]]\n",
      "Three columns : \n",
      " [[ 32  16   9]\n",
      " [ 12 118  24]\n",
      " [ 21   0   0]]\n"
     ]
    }
   ],
   "source": [
    "# While reshaping, if you are unsure about the shape of any of the axis, just input -1. \n",
    "#NumPy automatically calculates the shape when it sees a -1:\n",
    "BCSE_AI_ML_5B= np.array([32,16,9,12,118,24,21,0,0])\n",
    "print('Three rows :','\\n',np.reshape(BCSE_AI_ML_5B,(3,-1)))\n",
    "print('Three columns :','\\n',np.reshape(BCSE_AI_ML_5B,(-1,3)))\n"
   ]
  },
  {
   "cell_type": "code",
   "execution_count": 13,
   "id": "05d52399-57b5-408c-8a6c-f57e0bbc0fa1",
   "metadata": {},
   "outputs": [
    {
     "name": "stdout",
     "output_type": "stream",
     "text": [
      "1\n",
      "\n",
      "\n",
      "2\n",
      "\n",
      "\n",
      "3\n",
      "\n",
      "\n",
      "4\n",
      "\n",
      "\n"
     ]
    }
   ],
   "source": [
    "BCSE_AI_ML_5B = np.array([1, 2, 3, 4])\n",
    "\n",
    "#print(BCSE_AI_ML_5B[3])\n",
    "for i in BCSE_AI_ML_5B:\n",
    "    print(BCSE_AI_ML_5B[i-1])\n",
    "    print(\"\\n\")"
   ]
  },
  {
   "cell_type": "code",
   "execution_count": 14,
   "id": "ca930aba-cb51-4cc2-bbe2-75d38d16604f",
   "metadata": {},
   "outputs": [
    {
     "name": "stdout",
     "output_type": "stream",
     "text": [
      "4\n",
      "\n",
      "\n",
      "1\n",
      "\n",
      "\n",
      "2\n",
      "\n",
      "\n",
      "3\n",
      "\n",
      "\n"
     ]
    }
   ],
   "source": [
    "BCSE_AI_ML_5B = np.array([1, 2, 3, 4])\n",
    "\n",
    "#print(BCSE_AI_ML_5B[0])\n",
    "\n",
    "for i in range(0,len(BCSE_AI_ML_5B)):\n",
    "    print(BCSE_AI_ML_5B[i-1])\n",
    "    print(\"\\n\")"
   ]
  },
  {
   "cell_type": "code",
   "execution_count": 15,
   "id": "0e11e5d5-7df2-49f6-9634-916ca0ff413c",
   "metadata": {},
   "outputs": [
    {
     "name": "stdout",
     "output_type": "stream",
     "text": [
      "10\n",
      "12\n",
      "30\n",
      "14\n",
      "51\n",
      "16\n"
     ]
    }
   ],
   "source": [
    "BCSE_AI_ML_5B = np.array([[10, 12, 30], [14, 51, 16]])\n",
    "\n",
    "for i in BCSE_AI_ML_5B:\n",
    "  for j in i:\n",
    "    print(j)"
   ]
  },
  {
   "cell_type": "code",
   "execution_count": 16,
   "id": "7b2b5c7a-8da6-4a4b-9275-664ab980637b",
   "metadata": {},
   "outputs": [
    {
     "name": "stdout",
     "output_type": "stream",
     "text": [
      "1\n",
      "2\n",
      "3\n",
      "4\n",
      "5\n",
      "6\n",
      "7\n",
      "8\n",
      "9\n",
      "10\n",
      "11\n",
      "12\n"
     ]
    }
   ],
   "source": [
    "import numpy as np\n",
    "\n",
    "BCSE_AI_ML_5B = np.array([[[1, 2, 3], [4, 5, 6]], [[7, 8, 9], [10, 11, 12]]])\n",
    "\n",
    "for x in BCSE_AI_ML_5B:\n",
    "  for y in x:\n",
    "    for z in y:\n",
    "      print(z)"
   ]
  },
  {
   "cell_type": "code",
   "execution_count": 17,
   "id": "d17088d2-da68-4ef6-87e6-364618a7fff8",
   "metadata": {},
   "outputs": [
    {
     "name": "stdout",
     "output_type": "stream",
     "text": [
      "1\n",
      "2\n",
      "3\n",
      "4\n",
      "5\n",
      "6\n",
      "7\n",
      "8\n"
     ]
    }
   ],
   "source": [
    "BCSE_AI_ML_5B = np.array([[[1, 2], [3, 4]], [[5, 6], [7, 8]]])\n",
    "\n",
    "for x in np.nditer(BCSE_AI_ML_5B):\n",
    "  print(x)"
   ]
  },
  {
   "cell_type": "code",
   "execution_count": 18,
   "id": "ac0fa00a-8818-4345-acbb-f9ac61bbfe52",
   "metadata": {},
   "outputs": [
    {
     "name": "stdout",
     "output_type": "stream",
     "text": [
      "Original shape : (3, 3)\n",
      "Array : \n",
      " [[1. 1. 1.]\n",
      " [1. 1. 1.]\n",
      " [1. 1. 1.]]\n",
      "Shape after flatten : (9,)\n",
      "Array : \n",
      " [1. 1. 1. 1. 1. 1. 1. 1. 1.]\n",
      "Shape after ravel : (9,)\n",
      "Array : \n",
      " [1. 1. 1. 1. 1. 1. 1. 1. 1.]\n"
     ]
    }
   ],
   "source": [
    "#Sometimes when you have a multidimensional array and want to collapse it to a single-dimensional array, \n",
    "#you can either use the flatten() method or the ravel() method:\n",
    "\n",
    "BCSE_AI_ML_5B = np.ones((3,3))\n",
    "b = BCSE_AI_ML_5B.flatten()\n",
    "c = BCSE_AI_ML_5B.ravel()\n",
    "print('Original shape :', BCSE_AI_ML_5B.shape)\n",
    "print('Array :','\\n', BCSE_AI_ML_5B)\n",
    "print('Shape after flatten :',b.shape)\n",
    "print('Array :','\\n', b)\n",
    "print('Shape after ravel :',c.shape)\n",
    "print('Array :','\\n', c)\n",
    "\n",
    "#But an important difference between flatten() and ravel() is that the former returns a copy of the original array\n",
    "#while the latter returns a reference to the original array"
   ]
  },
  {
   "cell_type": "code",
   "execution_count": 19,
   "id": "17a45f04-4825-4ba8-8820-3a320314a735",
   "metadata": {},
   "outputs": [
    {
     "name": "stdout",
     "output_type": "stream",
     "text": [
      "[20 13  4 15]\n",
      "[20 13  4 15 60 17]\n",
      "[11 20 13  4 15]\n",
      "[11 20 13  4 15 60 17]\n",
      "[11 13 15]\n",
      "[11 20 13  4 15 60 17]\n",
      "[11 13 15]\n",
      "[]\n",
      "[13  4 15 60]\n"
     ]
    }
   ],
   "source": [
    "#SLicing\n",
    "BCSE_AI_ML_5B = np.array([11, 20, 13, 4, 15, 60,17])\n",
    "print(BCSE_AI_ML_5B[1:5])\n",
    "print(BCSE_AI_ML_5B[1:])\n",
    "print(BCSE_AI_ML_5B[:5])\n",
    "print(BCSE_AI_ML_5B[:])\n",
    "print(BCSE_AI_ML_5B[0:5:2])\n",
    "print(BCSE_AI_ML_5B[::1])\n",
    "print(BCSE_AI_ML_5B[:5:2])\n",
    "print(BCSE_AI_ML_5B[-1:-5])\n",
    "print(BCSE_AI_ML_5B[-5:-1])\n"
   ]
  },
  {
   "cell_type": "code",
   "execution_count": 20,
   "id": "37529345-fdff-4a14-a0f5-6518c73e9453",
   "metadata": {},
   "outputs": [
    {
     "name": "stdout",
     "output_type": "stream",
     "text": [
      "[ 0  1  2  3 10 22 23 23 29 86]\n",
      "['Avik' 'Kanpur' 'Soumen']\n",
      "[[[ 2 10]\n",
      "  [ 4 30]]\n",
      "\n",
      " [[ 6 25]\n",
      "  [ 8 27]]]\n"
     ]
    }
   ],
   "source": [
    "#Sorting \n",
    "BCSE_AI_ML_5B = np.array([3, 2, 0,29,1,10,23,86,23,22])\n",
    "print(np.sort(BCSE_AI_ML_5B))\n",
    "\n",
    "BCSE_AI_ML_5B = np.array(['Soumen','Avik','Kanpur'])\n",
    "print(np.sort(BCSE_AI_ML_5B))\n",
    "\n",
    "BCSE_AI_ML_5B = np.array([[[10, 2], [30, 4]], [[25, 6], [27, 8]]])\n",
    "print(np.sort(BCSE_AI_ML_5B))"
   ]
  },
  {
   "cell_type": "code",
   "execution_count": null,
   "id": "a4c12c65-7cd9-4444-b67b-2008bfaa6fd8",
   "metadata": {},
   "outputs": [],
   "source": []
  }
 ],
 "metadata": {
  "kernelspec": {
   "display_name": "Python 3 (ipykernel)",
   "language": "python",
   "name": "python3"
  },
  "language_info": {
   "codemirror_mode": {
    "name": "ipython",
    "version": 3
   },
   "file_extension": ".py",
   "mimetype": "text/x-python",
   "name": "python",
   "nbconvert_exporter": "python",
   "pygments_lexer": "ipython3",
   "version": "3.11.5"
  }
 },
 "nbformat": 4,
 "nbformat_minor": 5
}
