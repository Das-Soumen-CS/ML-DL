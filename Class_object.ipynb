{
 "cells": [
  {
   "cell_type": "code",
   "execution_count": 2,
   "id": "520e49fb-6479-4a29-b542-1f01c346105a",
   "metadata": {},
   "outputs": [
    {
     "name": "stdout",
     "output_type": "stream",
     "text": [
      "Soumen Das 1002030 <__main__.BCSE_AI_ML_5B object at 0x00000154C3EA3950> 5\n"
     ]
    }
   ],
   "source": [
    "class BCSE_AI_ML_5B:\n",
    "    def mydata(self,name,roll,sec):\n",
    "        self.name=name\n",
    "        self.roll=roll\n",
    "        self.sec=sec\n",
    "    def show(self):\n",
    "        print(self.name,self.roll,self,self.sec)\n",
    "\n",
    "obj_student_1=BCSE_AI_ML_5B()  # object create \n",
    "obj_student_1.mydata(\"Soumen Das\",1002030,5) # Assign value through object\n",
    "obj_student_1.show() # Display information\n",
    "    "
   ]
  },
  {
   "cell_type": "code",
   "execution_count": 3,
   "id": "2f43395d-e11a-4f5e-a463-6994245c2de9",
   "metadata": {},
   "outputs": [
    {
     "name": "stdout",
     "output_type": "stream",
     "text": [
      "BCSE 100 <__main__.BCSE_AI_ML_5B object at 0x00000154C43B27D0> 50\n"
     ]
    }
   ],
   "source": [
    "student_2=BCSE_AI_ML_5B()\n",
    "student_2.mydata(\"BCSE\",100,50)\n",
    "student_2.show()"
   ]
  },
  {
   "cell_type": "code",
   "execution_count": 4,
   "id": "a719ea24-a28b-4f9d-8644-a9b2102adbfe",
   "metadata": {},
   "outputs": [
    {
     "name": "stdout",
     "output_type": "stream",
     "text": [
      "Sukanta 12345 <__main__.BCSE_AI_ML_5B object at 0x00000154C291DC90> 5A\n"
     ]
    }
   ],
   "source": [
    "# Object Initialization can take place 2 ways \n",
    "# Case_1 : using \"methods\" like mydata()\n",
    "# Case_2: using special method \" __init()\"\n",
    "class BCSE_AI_ML_5B:\n",
    "    def mydata(self,name,roll,sec):\n",
    "        self.__name=name\n",
    "        self.__roll=roll\n",
    "        self.__sec=sec\n",
    "    def show(self):\n",
    "        print(self.__name,self.__roll,self,self.__sec)\n",
    "        \n",
    "    def __init__(self,name='',roll=0,sec=''):\n",
    "        self.__name=name\n",
    "        self.__roll=roll\n",
    "        self.__sec=sec\n",
    "        \n",
    "obj_1=BCSE_AI_ML_5B()\n",
    "obj_1.mydata('Sukanta',12345,\"5A\")\n",
    "obj_1.show()\n"
   ]
  },
  {
   "cell_type": "code",
   "execution_count": 5,
   "id": "1fb89ab0-4562-491f-b201-ce03391ba97f",
   "metadata": {},
   "outputs": [
    {
     "name": "stdin",
     "output_type": "stream",
     "text": [
      "enter student name: SDas\n",
      "enter student rollno: 1\n",
      "enter student Sec: A\n",
      "enter student name: Ds\n",
      "enter student rollno: 2\n",
      "enter student Sec: B\n",
      "enter student name: DSS\n",
      "enter student rollno: 4\n",
      "enter student Sec: N\n"
     ]
    },
    {
     "name": "stdout",
     "output_type": "stream",
     "text": [
      "Name: SDas Rollno: 1 sec: A\n",
      "Name: Ds Rollno: 2 sec: B\n",
      "Name: DSS Rollno: 4 sec: N\n",
      "Total no. of students: 3\n"
     ]
    }
   ],
   "source": [
    "class BCSE_AI_ML_5B:\n",
    "    count=0\n",
    "          \n",
    "    def __init__(self):\n",
    "        self.name=input('enter student name:')\n",
    "        self.roll=input('enter student rollno:')\n",
    "        self.sec=input('enter student Sec:')\n",
    "        BCSE_AI_ML_5B.count += 1\n",
    "     \n",
    "    # displayStudent method of class Student\n",
    "    def show(self):  \n",
    "        print(\"Name:\", self.name, \"Rollno:\", self.roll,\"sec:\",self.sec)\n",
    "        \n",
    "stu1 = BCSE_AI_ML_5B()\n",
    "stu2 = BCSE_AI_ML_5B()\n",
    "stu3 = BCSE_AI_ML_5B()\n",
    "stu1.show()\n",
    "stu2.show()\n",
    "stu3.show()\n",
    "print('Total no. of students:', BCSE_AI_ML_5B.count)"
   ]
  },
  {
   "cell_type": "code",
   "execution_count": null,
   "id": "f69a3ce0-5c99-43bc-9197-b14b1cf73ab9",
   "metadata": {},
   "outputs": [],
   "source": []
  },
  {
   "cell_type": "code",
   "execution_count": 6,
   "id": "2b0a1267-ca23-4913-b4d6-c253a81b46c4",
   "metadata": {},
   "outputs": [
    {
     "name": "stdout",
     "output_type": "stream",
     "text": [
      " No of Entiers Has to Create:\n"
     ]
    },
    {
     "name": "stdin",
     "output_type": "stream",
     "text": [
      "Please Provide 3\n",
      "enter student name: SDas\n",
      "enter student rollno: 1\n",
      "enter student Sec: A\n"
     ]
    },
    {
     "name": "stdout",
     "output_type": "stream",
     "text": [
      "Name: SDas Rollno: 1 sec: A\n"
     ]
    },
    {
     "name": "stdin",
     "output_type": "stream",
     "text": [
      "enter student name: Dasa\n",
      "enter student rollno: 2\n",
      "enter student Sec: S\n"
     ]
    },
    {
     "name": "stdout",
     "output_type": "stream",
     "text": [
      "Name: Dasa Rollno: 2 sec: S\n"
     ]
    },
    {
     "name": "stdin",
     "output_type": "stream",
     "text": [
      "enter student name: SGGGG\n",
      "enter student rollno: 45\n",
      "enter student Sec: ASD\n"
     ]
    },
    {
     "name": "stdout",
     "output_type": "stream",
     "text": [
      "Name: SGGGG Rollno: 45 sec: ASD\n",
      "\n",
      " Total no. of students: 6 \n",
      "\n"
     ]
    }
   ],
   "source": [
    "import sys\n",
    "\n",
    "class BCSE_AI_ML_5B:\n",
    "    count=0\n",
    "          \n",
    "    def __init__(self):\n",
    "        self.name=input('enter student name:')\n",
    "        self.roll=input('enter student rollno:')\n",
    "        self.sec=input('enter student Sec:')\n",
    "        BCSE_AI_ML_5B.count += 1\n",
    "     \n",
    "    # displayStudent method of class Student\n",
    "    def show(self):  \n",
    "        print(\"Name:\", self.name, \"Rollno:\", self.roll,\"sec:\",self.sec)\n",
    "        print(\"\\n\")\n",
    "    \n",
    "    print(\" No of Entiers Has to Create:\")\n",
    "    Size=int(input(\"Please Provide\"))\n",
    "   # Size=input(\"Please Provide:\")\n",
    "    \n",
    "    for i in range(1,Size+1):\n",
    "        stu = BCSE_AI_ML_5B()\n",
    "        stu.show()\n",
    "    print('\\n Total no. of students:', BCSE_AI_ML_5B.count,\"\\n\")\n",
    "        "
   ]
  },
  {
   "cell_type": "code",
   "execution_count": null,
   "id": "0409f20c-b969-4ba6-9ee4-4c5dd539c81a",
   "metadata": {},
   "outputs": [],
   "source": []
  }
 ],
 "metadata": {
  "kernelspec": {
   "display_name": "Python 3 (ipykernel)",
   "language": "python",
   "name": "python3"
  },
  "language_info": {
   "codemirror_mode": {
    "name": "ipython",
    "version": 3
   },
   "file_extension": ".py",
   "mimetype": "text/x-python",
   "name": "python",
   "nbconvert_exporter": "python",
   "pygments_lexer": "ipython3",
   "version": "3.11.5"
  }
 },
 "nbformat": 4,
 "nbformat_minor": 5
}
