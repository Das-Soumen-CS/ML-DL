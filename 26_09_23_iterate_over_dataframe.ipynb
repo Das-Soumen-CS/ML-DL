{
 "cells": [
  {
   "cell_type": "code",
   "execution_count": 24,
   "id": "d889eeb5-e77c-46ce-9289-6ac5124753ab",
   "metadata": {},
   "outputs": [
    {
     "name": "stdout",
     "output_type": "stream",
     "text": [
      "   Fever  Cough  Breadthing  Runny_Nose  Class_label\n",
      "0     80     70           1           1            1\n",
      "1     20     80           0           1            0\n",
      "2     10     25           1           1            0\n",
      "3     90     80           1           1            1\n"
     ]
    }
   ],
   "source": [
    " import pandas as pd\n",
    "data = {\n",
    "    'Fever': [80, 20, 10, 90], \n",
    "    'Cough': [70, 80, 25, 80],\n",
    "    'Breadthing':[1,0,1,1],\n",
    "    'Runny_Nose':[1,1,1,1],\n",
    "    'Class_label':[1,0,0,1]\n",
    "    \n",
    "}\n",
    "\n",
    "df=pd.DataFrame(data)\n",
    "print(df)"
   ]
  },
  {
   "cell_type": "code",
   "execution_count": 25,
   "id": "f02fd630-f30d-441b-b3a0-ae87f260b8df",
   "metadata": {},
   "outputs": [
    {
     "name": "stdout",
     "output_type": "stream",
     "text": [
      "70 1\n",
      "80 1\n",
      "25 1\n",
      "80 1\n"
     ]
    }
   ],
   "source": [
    "for row in df.itertuples(index=True, name='Pandas'):\n",
    "    print(getattr(row, \"Cough\"),getattr(row, \"Runny_Nose\"))"
   ]
  },
  {
   "cell_type": "code",
   "execution_count": null,
   "id": "350a49d5-ecf5-425c-aad6-66d61a011b95",
   "metadata": {},
   "outputs": [],
   "source": [
    "for row in df.itertuples():"
   ]
  },
  {
   "cell_type": "code",
   "execution_count": null,
   "id": "638a4814-b090-46ec-9aa8-80225bf9eec5",
   "metadata": {},
   "outputs": [],
   "source": [
    "  print(row)\n",
    "\n",
    "              "
   ]
  },
  {
   "cell_type": "code",
   "execution_count": 27,
   "id": "a4168d07-2b33-453d-9b6b-12c1c68003f9",
   "metadata": {},
   "outputs": [
    {
     "name": "stdout",
     "output_type": "stream",
     "text": [
      "Fever\n",
      "Cough\n",
      "Breadthing\n",
      "Runny_Nose\n",
      "Class_label\n"
     ]
    }
   ],
   "source": [
    "# Loop through columns using a for loop\n",
    "for col in df.columns:\n",
    "    print(col)"
   ]
  },
  {
   "cell_type": "code",
   "execution_count": 28,
   "id": "4e3ec6a2-16cb-45c5-817e-472ba4176580",
   "metadata": {},
   "outputs": [
    {
     "name": "stdout",
     "output_type": "stream",
     "text": [
      "70 1\n",
      "80 1\n",
      "25 1\n",
      "80 1\n"
     ]
    }
   ],
   "source": [
    "# Using DataFrame.index\n",
    "for row in df.index:\n",
    "     print(df['Cough'][row], df['Runny_Nose'][row])"
   ]
  },
  {
   "cell_type": "code",
   "execution_count": 29,
   "id": "5acb2c5b-5f1d-42a8-995c-26f61df48bdc",
   "metadata": {},
   "outputs": [
    {
     "name": "stdout",
     "output_type": "stream",
     "text": [
      "70 1\n",
      "80 0\n",
      "25 0\n",
      "80 1\n"
     ]
    }
   ],
   "source": [
    "# Another alternate approach byusing DataFrame.loc()\n",
    "for i in range(len(df)) :\n",
    "  print(df.loc[i, \"Cough\"], df.loc[i, \"Class_label\"])"
   ]
  },
  {
   "cell_type": "code",
   "execution_count": 30,
   "id": "57326d6b-23f2-44ef-9bd6-1f1e7d21bc9d",
   "metadata": {},
   "outputs": [
    {
     "name": "stdout",
     "output_type": "stream",
     "text": [
      "0 80 1\n",
      "1 20 0\n",
      "2 10 1\n",
      "3 90 1\n"
     ]
    }
   ],
   "source": [
    "# Another alternate approach by using DataFrame.iloc()\n",
    "for i in range(len(df)) :\n",
    "  print(i,df.iloc[i, 0], df.iloc[i, 2])"
   ]
  },
  {
   "cell_type": "code",
   "execution_count": 31,
   "id": "6f167a66-b774-45a9-bf9a-cd2d86e0ad1a",
   "metadata": {},
   "outputs": [
    {
     "name": "stdout",
     "output_type": "stream",
     "text": [
      "label: Fever\n",
      "content: 0    80\n",
      "1    20\n",
      "2    10\n",
      "3    90\n",
      "Name: Fever, dtype: int64\n",
      "label: Cough\n",
      "content: 0    70\n",
      "1    80\n",
      "2    25\n",
      "3    80\n",
      "Name: Cough, dtype: int64\n",
      "label: Breadthing\n",
      "content: 0    1\n",
      "1    0\n",
      "2    1\n",
      "3    1\n",
      "Name: Breadthing, dtype: int64\n",
      "label: Runny_Nose\n",
      "content: 0    1\n",
      "1    1\n",
      "2    1\n",
      "3    1\n",
      "Name: Runny_Nose, dtype: int64\n",
      "label: Class_label\n",
      "content: 0    1\n",
      "1    0\n",
      "2    0\n",
      "3    1\n",
      "Name: Class_label, dtype: int64\n"
     ]
    }
   ],
   "source": [
    "# Iterate over column by column using DataFrame.items()\n",
    "for label, content in df.items():\n",
    "    print(f'label: {label}')\n",
    "    print(f'content: {content}', sep='\\n')"
   ]
  },
  {
   "cell_type": "code",
   "execution_count": 32,
   "id": "f0938d9b-db0b-4002-8b9c-c0aaf8811821",
   "metadata": {},
   "outputs": [
    {
     "name": "stdout",
     "output_type": "stream",
     "text": [
      "0 70 1\n",
      "1 80 1\n",
      "2 25 1\n",
      "3 80 1\n"
     ]
    }
   ],
   "source": [
    "# iterate through each row and select\n",
    "\n",
    "for index, row in df.iterrows():\n",
    "    print(index,row[\"Cough\"], row[\"Runny_Nose\"])"
   ]
  },
  {
   "cell_type": "code",
   "execution_count": 33,
   "id": "f6763aad-b0cc-484b-b089-a2783aa84543",
   "metadata": {},
   "outputs": [
    {
     "name": "stdout",
     "output_type": "stream",
     "text": [
      "0 70 1\n",
      "1 80 0\n",
      "2 25 0\n",
      "3 80 1\n"
     ]
    }
   ],
   "source": [
    "for ind in df.index:\n",
    "    print(ind,df['Cough'][ind], df['Class_label'][ind])"
   ]
  },
  {
   "cell_type": "code",
   "execution_count": null,
   "id": "b183d56a-e5c4-404d-8145-3e80e30ad381",
   "metadata": {},
   "outputs": [],
   "source": []
  }
 ],
 "metadata": {
  "kernelspec": {
   "display_name": "Python 3 (ipykernel)",
   "language": "python",
   "name": "python3"
  },
  "language_info": {
   "codemirror_mode": {
    "name": "ipython",
    "version": 3
   },
   "file_extension": ".py",
   "mimetype": "text/x-python",
   "name": "python",
   "nbconvert_exporter": "python",
   "pygments_lexer": "ipython3",
   "version": "3.11.5"
  }
 },
 "nbformat": 4,
 "nbformat_minor": 5
}
